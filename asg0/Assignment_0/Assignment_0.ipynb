{
 "cells": [
  {
   "cell_type": "code",
   "execution_count": 1,
   "metadata": {},
   "outputs": [],
   "source": [
    "import numpy as np\n",
    "import cv2\n",
    "import os\n",
    "from os.path import isfile, join\n",
    "import matplotlib.pyplot as plt\n",
    "%matplotlib inline"
   ]
  },
  {
   "cell_type": "markdown",
   "metadata": {},
   "source": [
    "1. Video ↔ Images: Write a program to convert a given video to its constituent\n",
    "images. Your output should be in a specified folder. Write another program that\n",
    "will merge a set of images in a folder into a single video. You should be able to\n",
    "control the frame rate in the video that is created"
   ]
  },
  {
   "cell_type": "code",
   "execution_count": 2,
   "metadata": {},
   "outputs": [],
   "source": [
    "def getFrames(videofile,frameRate):\n",
    "    vidcap = cv2.VideoCapture(videofile)\n",
    "    sec = 0\n",
    "    count=0\n",
    "    success = True\n",
    "    while success:\n",
    "        vidcap.set(cv2.CAP_PROP_POS_MSEC,sec*1000)\n",
    "        success,image = vidcap.read()\n",
    "        if success:\n",
    "            cv2.imwrite(\"op/image\"+str(count)+\".jpg\", image)     # save frame as JPG %%file\n",
    "        count = count + 1\n",
    "        sec = sec + frameRate\n",
    "        sec = round(sec, 2)\n",
    "        "
   ]
  },
  {
   "cell_type": "code",
   "execution_count": 3,
   "metadata": {},
   "outputs": [],
   "source": [
    "getFrames('video.mp4',0.25)"
   ]
  },
  {
   "cell_type": "code",
   "execution_count": 4,
   "metadata": {},
   "outputs": [],
   "source": [
    "def makeVideo(pathIn,pathOut,fps):\n",
    "    files = [f for f in os.listdir(pathIn) if isfile(join(pathIn, f))]\n",
    "    files.sort(key = lambda x: int(x[5:-4]))\n",
    "    frame_array = []\n",
    "\n",
    "    for i in range(len(files)):\n",
    "        filename=pathIn + files[i]\n",
    "        img = cv2.imread(filename)\n",
    "        height, width, layers = img.shape\n",
    "        size = (width,height)\n",
    "        frame_array.append(img)\n",
    "        \n",
    "    out = cv2.VideoWriter(pathOut,cv2.VideoWriter_fourcc(*'DIVX'), fps, size)\n",
    "    for i in range(len(frame_array)):\n",
    "        # writing to a image array\n",
    "        out.write(frame_array[i])\n",
    "    out.release()\n",
    "    \n"
   ]
  },
  {
   "cell_type": "code",
   "execution_count": 5,
   "metadata": {},
   "outputs": [],
   "source": [
    "makeVideo('./op/','opvideo.mp4',12)"
   ]
  },
  {
   "cell_type": "markdown",
   "metadata": {},
   "source": [
    "2. Capturing Images: Learn how to capture frames from a webcam connected to\n",
    "your computer and save them as images in a folder. You may use either the\n",
    "built-in camera of your laptop or an external one connected through USB. You\n",
    "should also be able to display the frames (the video) on the screen while\n",
    "capturing"
   ]
  },
  {
   "cell_type": "code",
   "execution_count": 6,
   "metadata": {},
   "outputs": [],
   "source": [
    "def getWebcamFrames(n):\n",
    "    vidcap = cv2.VideoCapture(0)\n",
    "    count=0\n",
    "    success = True\n",
    "    while success:\n",
    "        success,image = vidcap.read()\n",
    "        if success:\n",
    "            cv2.imwrite(\"webop/image\"+str(count)+\".jpg\", image)     # save frame as JPG file\n",
    "        count = count + 1\n",
    "        if count>=n:\n",
    "            break\n",
    "    cv2.destroyAllWindows()"
   ]
  },
  {
   "cell_type": "code",
   "execution_count": 7,
   "metadata": {},
   "outputs": [],
   "source": [
    "getWebcamFrames(50)"
   ]
  },
  {
   "cell_type": "markdown",
   "metadata": {},
   "source": [
    "3 . Chroma Keying:\n",
    "Create an interesting composite of two videos using this technique."
   ]
  },
  {
   "cell_type": "code",
   "execution_count": 8,
   "metadata": {},
   "outputs": [],
   "source": [
    "def chromaKeyFrames(pathFront,pathBack,pathOut,fps,low,high):\n",
    "    files = [f for f in os.listdir(pathFront) if isfile(join(pathFront, f))]\n",
    "    files.sort(key = lambda x: int(x[5:-4]))\n",
    "    frame_array = []\n",
    "    \n",
    "    for i in range(len(files)):\n",
    "        image = cv2.imread(pathFront + files[i])\n",
    "        image = cv2.cvtColor(image, cv2.COLOR_BGR2RGB)\n",
    "        height, width, layers = image.shape\n",
    "        size = (width,height)\n",
    "        lower_green = np.array(low) \n",
    "        upper_green = np.array(high) \n",
    "        \n",
    "        mask = cv2.inRange(image, lower_green, upper_green)\n",
    "        image[mask != 0] = [0, 0, 0]\n",
    "\n",
    "        background_image = cv2.imread(pathBack + files[i])\n",
    "        background_image = cv2.cvtColor(background_image, cv2.COLOR_BGR2RGB)\n",
    "        background_image[mask == 0] = [0, 0, 0]\n",
    "\n",
    "        # Add the two images together to create a complete image!\n",
    "        final_image = cv2.cvtColor(background_image + image, cv2.COLOR_RGB2BGR)\n",
    "        frame_array.append(final_image)\n",
    "    \n",
    "    out = cv2.VideoWriter(pathOut,cv2.VideoWriter_fourcc(*'DIVX'), fps, size)\n",
    "    for i in range(len(frame_array)):\n",
    "        out.write(frame_array[i])\n",
    "    out.release()"
   ]
  },
  {
   "cell_type": "code",
   "execution_count": 9,
   "metadata": {},
   "outputs": [],
   "source": [
    "chromaKeyFrames('./front/','./back/','chromavideo.mp4',10,[0,200,0],[20,255,70])"
   ]
  }
 ],
 "metadata": {
  "kernelspec": {
   "display_name": "Python 3",
   "language": "python",
   "name": "python3"
  },
  "language_info": {
   "codemirror_mode": {
    "name": "ipython",
    "version": 3
   },
   "file_extension": ".py",
   "mimetype": "text/x-python",
   "name": "python",
   "nbconvert_exporter": "python",
   "pygments_lexer": "ipython3",
   "version": "3.5.2"
  }
 },
 "nbformat": 4,
 "nbformat_minor": 2
}
